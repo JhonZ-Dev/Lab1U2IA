{
 "cells": [
  {
   "cell_type": "markdown",
   "id": "8b6f603c",
   "metadata": {},
   "source": [
    "<center><h1>Técnicas de Inteligencia Artificial</header1></center>"
   ]
  },
  {
   "cell_type": "markdown",
   "id": "3eb1aaac",
   "metadata": {},
   "source": [
    "Presentado por: Jhon Zambrano  <br>\n",
    "Fecha: 18/07/2022"
   ]
  },
  {
   "cell_type": "markdown",
   "id": "1dec299b",
   "metadata": {
    "ExecuteTime": {
     "end_time": "2022-03-14T15:14:04.930713Z",
     "start_time": "2022-03-14T15:14:04.921682Z"
    }
   },
   "source": [
    "# Importación de librerias necesarias"
   ]
  },
  {
   "cell_type": "code",
   "execution_count": 3,
   "id": "6d1abf7a",
   "metadata": {
    "ExecuteTime": {
     "end_time": "2022-03-14T15:14:46.228059Z",
     "start_time": "2022-03-14T15:14:46.223108Z"
    }
   },
   "outputs": [],
   "source": [
    "#Para esta actividad se importarán las siguientes librerías:\n",
    "#Para esta actividad se importarán las siguientes librerías:\n",
    "#importar libreria pandas\n",
    "import pandas as pd\n",
    "# importar metodo de scalado standar\n",
    "from sklearn.preprocessing import StandardScaler\n",
    "# Importación de método para dividir datos de prueba \n",
    "from sklearn.model_selection import train_test_split\n",
    "# Importación de método para clasificación\n",
    "from sklearn.tree import DecisionTreeClassifier\n",
    "#Importación de modelo\n",
    "from sklearn import linear_model\n",
    "from sklearn.linear_model import LinearRegression\n",
    "#Importacion de metodos para calculo de error cuadratico y variaza\n",
    "from sklearn.metrics import mean_squared_error, r2_score\n",
    "import matplotlib.pyplot as plt #Libreria para hacer las gráfias\n"
   ]
  },
  {
   "cell_type": "markdown",
   "id": "6a44b924",
   "metadata": {},
   "source": [
    "## Cargar el Dataset"
   ]
  },
  {
   "cell_type": "code",
   "execution_count": 5,
   "id": "3541e808",
   "metadata": {},
   "outputs": [],
   "source": [
    "#Código para cargar el Dataset\n",
    "data=pd.read_csv(\"pesoPescado.csv\")"
   ]
  },
  {
   "cell_type": "markdown",
   "id": "93c30410",
   "metadata": {},
   "source": [
    "## Descripción de la fuente del Dataset"
   ]
  },
  {
   "cell_type": "markdown",
   "id": "db6174bc",
   "metadata": {},
   "source": [
    "**Variables independientes tenemos:**\n",
    "\n",
    "\n",
    "--->El nombre de la especie del pez de tipo categorico\n",
    "\n",
    "\n",
    "--->La longitud vertical en centímetros (cm) de tipo continuo\n",
    "\n",
    "\n",
    "--->Longitud diagonal en cm de tipo continuo \n",
    "\n",
    "\n",
    "--->Longitud de la cruz en cm\n",
    "\n",
    "\n",
    "--->Altura en cm y el ancho diagonal en cm.\n",
    "\n",
    "\n",
    "**Varibale de salida o tambien llamada variable dependiente es**\n",
    "\n",
    "\n",
    "--->el peso del pez"
   ]
  },
  {
   "cell_type": "markdown",
   "id": "7f868eab",
   "metadata": {},
   "source": [
    "## Explique el problema a resolver. \n",
    "El problema a resolver se trata de la predección del peso de los peces el cual cuenta con aproximadamente siete filas. El problema aborda las especies de peces diferentes comunes en las ventas del mercado de pescado. Entre sus características principales tenemos, el nombre de la especie del pez, la longitud vertical en centímetros (cm), longitud diagonal en cm, longitud de la cruz en cm, altura en cm, ancho diagonal en cm y finalmente el peso del pescado en gramos (gr). Con este conjunto de datos, se puede realizar un modelo predictivo utilizando datos amigables con la máquina y estimar el peso de los peces."
   ]
  },
  {
   "cell_type": "markdown",
   "id": "a0b719c1",
   "metadata": {},
   "source": [
    "## Caracterización del Dataset\n",
    "\n",
    "Realice una descripción de los datos con:\n",
    "\n",
    ">- Número de instancias en total.\n",
    ">- Número de atributos de entrada, su significado y tipo.\n",
    ">- Estadísticas de la variable objetivo.\n",
    ">- Estadísticas los atributos en relación con la variable objetivo.\n"
   ]
  },
  {
   "cell_type": "markdown",
   "id": "1e87095b-0d49-4624-b4d6-d1c2addca21d",
   "metadata": {},
   "source": [
    "**Número de atributos de entrada, su significado y tipo.**\n",
    "\n",
    "--->El nombre de la especie del pez de tipo categorico\n",
    "\n",
    "--->La longitud vertical en centímetros (cm) de tipo continuo\n",
    "\n",
    "--->Longitud diagonal en cm de tipo continuo\n",
    "\n",
    "--->Longitud de la cruz en cm\n",
    "\n",
    "--->Altura en cm y el ancho diagonal en cm."
   ]
  },
  {
   "cell_type": "code",
   "execution_count": 6,
   "id": "a504f79a-b9ec-4bc0-947e-ee8b8cd37278",
   "metadata": {},
   "outputs": [
    {
     "data": {
      "text/plain": [
       "count     159.000000\n",
       "mean      398.326415\n",
       "std       357.978317\n",
       "min         0.000000\n",
       "25%       120.000000\n",
       "50%       273.000000\n",
       "75%       650.000000\n",
       "max      1650.000000\n",
       "Name: Weight, dtype: float64"
      ]
     },
     "execution_count": 6,
     "metadata": {},
     "output_type": "execute_result"
    }
   ],
   "source": [
    "#Estadistica para la variable objetiva\n",
    "#Weight\n",
    "VObjetiva = data['Weight']\n",
    "VObjetiva.describe()"
   ]
  },
  {
   "cell_type": "code",
   "execution_count": null,
   "id": "e8d78954-e6e8-470e-8ca3-0719efb8b440",
   "metadata": {},
   "outputs": [],
   "source": []
  },
  {
   "cell_type": "markdown",
   "id": "0a19e6af",
   "metadata": {
    "tags": []
   },
   "source": [
    "## Preprocesamiento del dataset. Transformaciones previas necesarias para la modelación"
   ]
  },
  {
   "cell_type": "code",
   "execution_count": 4,
   "id": "5a24dac4",
   "metadata": {},
   "outputs": [],
   "source": [
    "#Transformación de las caracteristicas (mire el apartado Feature engineering del aula virtual)\n"
   ]
  },
  {
   "cell_type": "markdown",
   "id": "49815fde",
   "metadata": {
    "ExecuteTime": {
     "end_time": "2022-03-14T15:56:34.366469Z",
     "start_time": "2022-03-14T15:56:34.358471Z"
    }
   },
   "source": [
    "## División del dataset en datos de entrenamiento y datos de test "
   ]
  },
  {
   "cell_type": "code",
   "execution_count": 5,
   "id": "6f26d21e",
   "metadata": {},
   "outputs": [],
   "source": [
    "#Código que realice la división en entrenamiento y test, de acuerdo con la estretgia de evaluación planeada. Describa cuál es.\n"
   ]
  },
  {
   "cell_type": "markdown",
   "id": "6319adad",
   "metadata": {},
   "source": [
    "## Regresión Lineal"
   ]
  },
  {
   "cell_type": "code",
   "execution_count": 6,
   "id": "d5d2b2c6",
   "metadata": {},
   "outputs": [],
   "source": [
    "#Códo del modelo"
   ]
  },
  {
   "cell_type": "code",
   "execution_count": 7,
   "id": "33f5be2a",
   "metadata": {
    "ExecuteTime": {
     "end_time": "2022-04-25T07:21:39.020596Z",
     "start_time": "2022-04-25T07:21:39.005596Z"
    }
   },
   "outputs": [],
   "source": [
    "#Entrenamiento"
   ]
  },
  {
   "cell_type": "code",
   "execution_count": 8,
   "id": "a2e675b3",
   "metadata": {},
   "outputs": [],
   "source": [
    "#Test"
   ]
  },
  {
   "cell_type": "markdown",
   "id": "9c2239f5",
   "metadata": {},
   "source": [
    "## Evaluación del Modelo"
   ]
  },
  {
   "cell_type": "markdown",
   "id": "ad219a0c",
   "metadata": {},
   "source": [
    "Construya un o dos párrafos con los principales hallazgos. Cómo está funcionando el modelo? Calidad en los resultados de predicción. "
   ]
  },
  {
   "cell_type": "code",
   "execution_count": null,
   "id": "28b14a2f",
   "metadata": {},
   "outputs": [],
   "source": []
  }
 ],
 "metadata": {
  "kernelspec": {
   "display_name": "Python 3 (ipykernel)",
   "language": "python",
   "name": "python3"
  },
  "language_info": {
   "codemirror_mode": {
    "name": "ipython",
    "version": 3
   },
   "file_extension": ".py",
   "mimetype": "text/x-python",
   "name": "python",
   "nbconvert_exporter": "python",
   "pygments_lexer": "ipython3",
   "version": "3.9.12"
  },
  "toc": {
   "base_numbering": 1,
   "nav_menu": {},
   "number_sections": true,
   "sideBar": true,
   "skip_h1_title": true,
   "title_cell": "Tabla de Contenido",
   "title_sidebar": "Contenido",
   "toc_cell": false,
   "toc_position": {
    "height": "calc(100% - 180px)",
    "left": "10px",
    "top": "150px",
    "width": "263.591px"
   },
   "toc_section_display": true,
   "toc_window_display": true
  }
 },
 "nbformat": 4,
 "nbformat_minor": 5
}
